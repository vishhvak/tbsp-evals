{
 "cells": [
  {
   "cell_type": "code",
   "execution_count": 3,
   "metadata": {},
   "outputs": [],
   "source": [
    "import json\n",
    "import pandas as pd\n",
    "\n",
    "# Load the JSON data\n",
    "with open('sr28.json') as f:\n",
    "    data = json.load(f)\n",
    "\n",
    "# Convert the data into a DataFrame\n",
    "df = pd.json_normalize(data['foods'])"
   ]
  },
  {
   "cell_type": "code",
   "execution_count": 4,
   "metadata": {},
   "outputs": [
    {
     "data": {
      "text/html": [
       "<div>\n",
       "<style scoped>\n",
       "    .dataframe tbody tr th:only-of-type {\n",
       "        vertical-align: middle;\n",
       "    }\n",
       "\n",
       "    .dataframe tbody tr th {\n",
       "        vertical-align: top;\n",
       "    }\n",
       "\n",
       "    .dataframe thead th {\n",
       "        text-align: right;\n",
       "    }\n",
       "</style>\n",
       "<table border=\"1\" class=\"dataframe\">\n",
       "  <thead>\n",
       "    <tr style=\"text-align: right;\">\n",
       "      <th></th>\n",
       "      <th>description</th>\n",
       "      <th>nutrients</th>\n",
       "      <th>measures</th>\n",
       "      <th>nutrient_id</th>\n",
       "      <th>food_group.food_group_code</th>\n",
       "      <th>food_group.description</th>\n",
       "    </tr>\n",
       "  </thead>\n",
       "  <tbody>\n",
       "    <tr>\n",
       "      <th>0</th>\n",
       "      <td>[butter, salted]</td>\n",
       "      <td>[{'value': 0.85, 'units': 'g', 'name': 'protei...</td>\n",
       "      <td>[{'quantity': 1.0, 'unit': 'pat (1\" sq, 1/3\" h...</td>\n",
       "      <td>01001</td>\n",
       "      <td>0100</td>\n",
       "      <td>dairy and egg products</td>\n",
       "    </tr>\n",
       "    <tr>\n",
       "      <th>1</th>\n",
       "      <td>[butter, whipped, with salt]</td>\n",
       "      <td>[{'value': 0.49, 'units': 'g', 'name': 'protei...</td>\n",
       "      <td>[{'quantity': 1.0, 'unit': 'pat (1\" sq, 1/3\" h...</td>\n",
       "      <td>01002</td>\n",
       "      <td>0100</td>\n",
       "      <td>dairy and egg products</td>\n",
       "    </tr>\n",
       "    <tr>\n",
       "      <th>2</th>\n",
       "      <td>[butter oil, anhydrous]</td>\n",
       "      <td>[{'value': 0.28, 'units': 'g', 'name': 'protei...</td>\n",
       "      <td>[{'quantity': 1.0, 'unit': 'tbsp', 'weight': 1...</td>\n",
       "      <td>01003</td>\n",
       "      <td>0100</td>\n",
       "      <td>dairy and egg products</td>\n",
       "    </tr>\n",
       "    <tr>\n",
       "      <th>3</th>\n",
       "      <td>[cheese, blue]</td>\n",
       "      <td>[{'value': 21.4, 'units': 'g', 'name': 'protei...</td>\n",
       "      <td>[{'quantity': 1.0, 'unit': 'oz', 'weight': 28....</td>\n",
       "      <td>01004</td>\n",
       "      <td>0100</td>\n",
       "      <td>dairy and egg products</td>\n",
       "    </tr>\n",
       "    <tr>\n",
       "      <th>4</th>\n",
       "      <td>[cheese, brick]</td>\n",
       "      <td>[{'value': 23.24, 'units': 'g', 'name': 'prote...</td>\n",
       "      <td>[{'quantity': 1.0, 'unit': 'cup, diced', 'weig...</td>\n",
       "      <td>01005</td>\n",
       "      <td>0100</td>\n",
       "      <td>dairy and egg products</td>\n",
       "    </tr>\n",
       "    <tr>\n",
       "      <th>...</th>\n",
       "      <td>...</td>\n",
       "      <td>...</td>\n",
       "      <td>...</td>\n",
       "      <td>...</td>\n",
       "      <td>...</td>\n",
       "      <td>...</td>\n",
       "    </tr>\n",
       "    <tr>\n",
       "      <th>8784</th>\n",
       "      <td>[fish, mackerel, salted]</td>\n",
       "      <td>[{'value': 18.5, 'units': 'g', 'name': 'protei...</td>\n",
       "      <td>[{'quantity': 1.0, 'unit': 'piece (5-1/2\" x 1-...</td>\n",
       "      <td>83110</td>\n",
       "      <td>1500</td>\n",
       "      <td>finfish and shellfish products</td>\n",
       "    </tr>\n",
       "    <tr>\n",
       "      <th>8785</th>\n",
       "      <td>[mollusks, scallop, (bay and sea), cooked, ste...</td>\n",
       "      <td>[{'value': 20.54, 'units': 'g', 'name': 'prote...</td>\n",
       "      <td>[{'quantity': 3.0, 'unit': 'oz', 'weight': 85....</td>\n",
       "      <td>90240</td>\n",
       "      <td>1500</td>\n",
       "      <td>finfish and shellfish products</td>\n",
       "    </tr>\n",
       "    <tr>\n",
       "      <th>8786</th>\n",
       "      <td>[syrup, cane]</td>\n",
       "      <td>[{'value': 0.0, 'units': 'g', 'name': 'protein...</td>\n",
       "      <td>[{'quantity': 1.0, 'unit': 'serving', 'weight'...</td>\n",
       "      <td>90480</td>\n",
       "      <td>1900</td>\n",
       "      <td>sweets</td>\n",
       "    </tr>\n",
       "    <tr>\n",
       "      <th>8787</th>\n",
       "      <td>[mollusks, snail, raw]</td>\n",
       "      <td>[{'value': 16.1, 'units': 'g', 'name': 'protei...</td>\n",
       "      <td>[{'quantity': 3.0, 'unit': 'oz', 'weight': 85....</td>\n",
       "      <td>90560</td>\n",
       "      <td>1500</td>\n",
       "      <td>finfish and shellfish products</td>\n",
       "    </tr>\n",
       "    <tr>\n",
       "      <th>8788</th>\n",
       "      <td>[turtle, green, raw]</td>\n",
       "      <td>[{'value': 19.8, 'units': 'g', 'name': 'protei...</td>\n",
       "      <td>[{'quantity': 3.0, 'unit': 'oz', 'weight': 85....</td>\n",
       "      <td>93600</td>\n",
       "      <td>1500</td>\n",
       "      <td>finfish and shellfish products</td>\n",
       "    </tr>\n",
       "  </tbody>\n",
       "</table>\n",
       "<p>8789 rows × 6 columns</p>\n",
       "</div>"
      ],
      "text/plain": [
       "                                            description  \\\n",
       "0                                      [butter, salted]   \n",
       "1                          [butter, whipped, with salt]   \n",
       "2                               [butter oil, anhydrous]   \n",
       "3                                        [cheese, blue]   \n",
       "4                                       [cheese, brick]   \n",
       "...                                                 ...   \n",
       "8784                           [fish, mackerel, salted]   \n",
       "8785  [mollusks, scallop, (bay and sea), cooked, ste...   \n",
       "8786                                      [syrup, cane]   \n",
       "8787                             [mollusks, snail, raw]   \n",
       "8788                               [turtle, green, raw]   \n",
       "\n",
       "                                              nutrients  \\\n",
       "0     [{'value': 0.85, 'units': 'g', 'name': 'protei...   \n",
       "1     [{'value': 0.49, 'units': 'g', 'name': 'protei...   \n",
       "2     [{'value': 0.28, 'units': 'g', 'name': 'protei...   \n",
       "3     [{'value': 21.4, 'units': 'g', 'name': 'protei...   \n",
       "4     [{'value': 23.24, 'units': 'g', 'name': 'prote...   \n",
       "...                                                 ...   \n",
       "8784  [{'value': 18.5, 'units': 'g', 'name': 'protei...   \n",
       "8785  [{'value': 20.54, 'units': 'g', 'name': 'prote...   \n",
       "8786  [{'value': 0.0, 'units': 'g', 'name': 'protein...   \n",
       "8787  [{'value': 16.1, 'units': 'g', 'name': 'protei...   \n",
       "8788  [{'value': 19.8, 'units': 'g', 'name': 'protei...   \n",
       "\n",
       "                                               measures nutrient_id  \\\n",
       "0     [{'quantity': 1.0, 'unit': 'pat (1\" sq, 1/3\" h...       01001   \n",
       "1     [{'quantity': 1.0, 'unit': 'pat (1\" sq, 1/3\" h...       01002   \n",
       "2     [{'quantity': 1.0, 'unit': 'tbsp', 'weight': 1...       01003   \n",
       "3     [{'quantity': 1.0, 'unit': 'oz', 'weight': 28....       01004   \n",
       "4     [{'quantity': 1.0, 'unit': 'cup, diced', 'weig...       01005   \n",
       "...                                                 ...         ...   \n",
       "8784  [{'quantity': 1.0, 'unit': 'piece (5-1/2\" x 1-...       83110   \n",
       "8785  [{'quantity': 3.0, 'unit': 'oz', 'weight': 85....       90240   \n",
       "8786  [{'quantity': 1.0, 'unit': 'serving', 'weight'...       90480   \n",
       "8787  [{'quantity': 3.0, 'unit': 'oz', 'weight': 85....       90560   \n",
       "8788  [{'quantity': 3.0, 'unit': 'oz', 'weight': 85....       93600   \n",
       "\n",
       "     food_group.food_group_code          food_group.description  \n",
       "0                          0100          dairy and egg products  \n",
       "1                          0100          dairy and egg products  \n",
       "2                          0100          dairy and egg products  \n",
       "3                          0100          dairy and egg products  \n",
       "4                          0100          dairy and egg products  \n",
       "...                         ...                             ...  \n",
       "8784                       1500  finfish and shellfish products  \n",
       "8785                       1500  finfish and shellfish products  \n",
       "8786                       1900                          sweets  \n",
       "8787                       1500  finfish and shellfish products  \n",
       "8788                       1500  finfish and shellfish products  \n",
       "\n",
       "[8789 rows x 6 columns]"
      ]
     },
     "execution_count": 4,
     "metadata": {},
     "output_type": "execute_result"
    }
   ],
   "source": [
    "df"
   ]
  },
  {
   "cell_type": "code",
   "execution_count": 11,
   "metadata": {},
   "outputs": [],
   "source": [
    "import json\n",
    "import pandas as pd\n",
    "\n",
    "# Load the JSON data\n",
    "with open('sr28.json') as f:\n",
    "    data = json.load(f)\n",
    "\n",
    "# Convert the data into a DataFrame\n",
    "df = pd.json_normalize(data['foods'])\n",
    "\n",
    "# Convert description list to a space-separated string\n",
    "df['description'] = df['description'].apply(' '.join)\n",
    "\n",
    "# Convert nutrients list of dicts to individual columns\n",
    "def nutrients_to_series(nutrients):\n",
    "    return pd.Series({nutrient['name']: nutrient['value'] for nutrient in nutrients})\n",
    "\n",
    "nutrients = df['nutrients'].apply(nutrients_to_series)\n",
    "df = pd.concat([df.drop('nutrients', axis=1), nutrients], axis=1)\n",
    "\n",
    "# Print the DataFrame\n",
    "df = df[['description', 'proteins', 'fats', 'carbohydrates', 'calories']]"
   ]
  },
  {
   "cell_type": "code",
   "execution_count": 57,
   "metadata": {},
   "outputs": [],
   "source": [
    "# JSON of proteins, fats, carbs, calories for each food item\n",
    "df['answer'] = df.apply(lambda row: json.dumps({\n",
    "    'proteins': row['proteins'],\n",
    "    'fats': row['fats'],\n",
    "    'carbohydrates': row['carbohydrates'],\n",
    "    'calories': row['calories']\n",
    "}), axis=1)"
   ]
  },
  {
   "cell_type": "code",
   "execution_count": 58,
   "metadata": {},
   "outputs": [],
   "source": [
    "df.to_csv('sr28.csv', index=False)"
   ]
  },
  {
   "cell_type": "code",
   "execution_count": 14,
   "metadata": {},
   "outputs": [],
   "source": [
    "import openai\n",
    "import os\n",
    "os.environ['OPENAI_API_KEY'] = \"insert your key here\""
   ]
  },
  {
   "cell_type": "code",
   "execution_count": 25,
   "metadata": {},
   "outputs": [],
   "source": [
    "test_samples = df.sample(250, random_state=1).reset_index(drop=True)"
   ]
  },
  {
   "cell_type": "code",
   "execution_count": 27,
   "metadata": {},
   "outputs": [],
   "source": [
    "registry_path = os.path.join(os.getcwd(), \"openai-evals/evals/registry\")"
   ]
  },
  {
   "cell_type": "code",
   "execution_count": 28,
   "metadata": {},
   "outputs": [
    {
     "data": {
      "text/plain": [
       "True"
      ]
     },
     "execution_count": 28,
     "metadata": {},
     "output_type": "execute_result"
    }
   ],
   "source": [
    "os.path.exists(registry_path)"
   ]
  },
  {
   "cell_type": "code",
   "execution_count": 29,
   "metadata": {},
   "outputs": [
    {
     "data": {
      "text/html": [
       "<div>\n",
       "<style scoped>\n",
       "    .dataframe tbody tr th:only-of-type {\n",
       "        vertical-align: middle;\n",
       "    }\n",
       "\n",
       "    .dataframe tbody tr th {\n",
       "        vertical-align: top;\n",
       "    }\n",
       "\n",
       "    .dataframe thead th {\n",
       "        text-align: right;\n",
       "    }\n",
       "</style>\n",
       "<table border=\"1\" class=\"dataframe\">\n",
       "  <thead>\n",
       "    <tr style=\"text-align: right;\">\n",
       "      <th></th>\n",
       "      <th>description</th>\n",
       "      <th>proteins</th>\n",
       "      <th>fats</th>\n",
       "      <th>carbohydrates</th>\n",
       "      <th>calories</th>\n",
       "    </tr>\n",
       "  </thead>\n",
       "  <tbody>\n",
       "    <tr>\n",
       "      <th>0</th>\n",
       "      <td>mollusks scallop (bay and sea) cooked steamed</td>\n",
       "      <td>20.54</td>\n",
       "      <td>0.84</td>\n",
       "      <td>5.41</td>\n",
       "      <td>111.0</td>\n",
       "    </tr>\n",
       "    <tr>\n",
       "      <th>1</th>\n",
       "      <td>denny's spaghetti and meatballs</td>\n",
       "      <td>7.84</td>\n",
       "      <td>8.52</td>\n",
       "      <td>15.51</td>\n",
       "      <td>170.0</td>\n",
       "    </tr>\n",
       "    <tr>\n",
       "      <th>2</th>\n",
       "      <td>digiorno pizza cheese topping rising crust fro...</td>\n",
       "      <td>12.80</td>\n",
       "      <td>8.60</td>\n",
       "      <td>31.78</td>\n",
       "      <td>256.0</td>\n",
       "    </tr>\n",
       "    <tr>\n",
       "      <th>3</th>\n",
       "      <td>fast foods hamburger; single regular patty; wi...</td>\n",
       "      <td>13.30</td>\n",
       "      <td>10.18</td>\n",
       "      <td>29.57</td>\n",
       "      <td>263.0</td>\n",
       "    </tr>\n",
       "    <tr>\n",
       "      <th>4</th>\n",
       "      <td>cinnamon buns frosted (includes honey buns)</td>\n",
       "      <td>4.45</td>\n",
       "      <td>26.61</td>\n",
       "      <td>48.60</td>\n",
       "      <td>452.0</td>\n",
       "    </tr>\n",
       "    <tr>\n",
       "      <th>...</th>\n",
       "      <td>...</td>\n",
       "      <td>...</td>\n",
       "      <td>...</td>\n",
       "      <td>...</td>\n",
       "      <td>...</td>\n",
       "    </tr>\n",
       "    <tr>\n",
       "      <th>245</th>\n",
       "      <td>pork fresh loin sirloin (chops or roasts) bone...</td>\n",
       "      <td>22.81</td>\n",
       "      <td>2.59</td>\n",
       "      <td>0.00</td>\n",
       "      <td>121.0</td>\n",
       "    </tr>\n",
       "    <tr>\n",
       "      <th>246</th>\n",
       "      <td>keebler zesta saltines original</td>\n",
       "      <td>8.20</td>\n",
       "      <td>9.00</td>\n",
       "      <td>76.10</td>\n",
       "      <td>418.0</td>\n",
       "    </tr>\n",
       "    <tr>\n",
       "      <th>247</th>\n",
       "      <td>pepperidge farm hamburger bun</td>\n",
       "      <td>0.01</td>\n",
       "      <td>3.71</td>\n",
       "      <td>50.00</td>\n",
       "      <td>278.0</td>\n",
       "    </tr>\n",
       "    <tr>\n",
       "      <th>248</th>\n",
       "      <td>babyfood fruit peaches strained</td>\n",
       "      <td>0.94</td>\n",
       "      <td>0.33</td>\n",
       "      <td>14.48</td>\n",
       "      <td>65.0</td>\n",
       "    </tr>\n",
       "    <tr>\n",
       "      <th>249</th>\n",
       "      <td>papa john's 14\" cheese pizza original crust</td>\n",
       "      <td>11.53</td>\n",
       "      <td>9.25</td>\n",
       "      <td>32.74</td>\n",
       "      <td>260.0</td>\n",
       "    </tr>\n",
       "  </tbody>\n",
       "</table>\n",
       "<p>250 rows × 5 columns</p>\n",
       "</div>"
      ],
      "text/plain": [
       "                                           description  proteins   fats  \\\n",
       "0        mollusks scallop (bay and sea) cooked steamed     20.54   0.84   \n",
       "1                      denny's spaghetti and meatballs      7.84   8.52   \n",
       "2    digiorno pizza cheese topping rising crust fro...     12.80   8.60   \n",
       "3    fast foods hamburger; single regular patty; wi...     13.30  10.18   \n",
       "4          cinnamon buns frosted (includes honey buns)      4.45  26.61   \n",
       "..                                                 ...       ...    ...   \n",
       "245  pork fresh loin sirloin (chops or roasts) bone...     22.81   2.59   \n",
       "246                    keebler zesta saltines original      8.20   9.00   \n",
       "247                      pepperidge farm hamburger bun      0.01   3.71   \n",
       "248                    babyfood fruit peaches strained      0.94   0.33   \n",
       "249        papa john's 14\" cheese pizza original crust     11.53   9.25   \n",
       "\n",
       "     carbohydrates  calories  \n",
       "0             5.41     111.0  \n",
       "1            15.51     170.0  \n",
       "2            31.78     256.0  \n",
       "3            29.57     263.0  \n",
       "4            48.60     452.0  \n",
       "..             ...       ...  \n",
       "245           0.00     121.0  \n",
       "246          76.10     418.0  \n",
       "247          50.00     278.0  \n",
       "248          14.48      65.0  \n",
       "249          32.74     260.0  \n",
       "\n",
       "[250 rows x 5 columns]"
      ]
     },
     "execution_count": 29,
     "metadata": {},
     "output_type": "execute_result"
    }
   ],
   "source": [
    "test_samples"
   ]
  },
  {
   "cell_type": "code",
   "execution_count": 32,
   "metadata": {},
   "outputs": [],
   "source": [
    "# Build the prompts using Chat format. We support converting Chat conversations to text for non-Chat models\n",
    "\n",
    "def create_chat_prompt(item_description):\n",
    "    sys_msg = \"You are an expert nutritionist. You can provide nutrition information of any specific food item extremely accurately. You will be asked to provide values in grams for proteins, fats, carbohydrates and calories of 100g of a given item in JSON format.\"\n",
    "    user_prompt = f\"what is the nutrition information of 100g of {item_description}?\" \n",
    "    return [\n",
    "        {\"role\": \"system\", \"content\": sys_msg}, \n",
    "        {\"role\": \"user\", \"content\": user_prompt}\n",
    "    ]"
   ]
  },
  {
   "cell_type": "code",
   "execution_count": 59,
   "metadata": {},
   "outputs": [],
   "source": [
    "test_samples[\"input\"] = test_samples.apply(lambda x: create_chat_prompt(x['description']), axis=1)"
   ]
  },
  {
   "cell_type": "code",
   "execution_count": 34,
   "metadata": {},
   "outputs": [],
   "source": [
    "import yaml\n",
    "from tqdm import tqdm\n",
    "\n",
    "registry_yaml = {}\n",
    "\n",
    "subject_path = os.path.join(registry_path, \"data\", \"sr28\")\n",
    "os.makedirs(subject_path, exist_ok=True)\n",
    "\n",
    "# Create test prompts and ideal completions\n",
    "test_df = test_samples.copy()\n",
    "test_df[\"input\"] = test_df.input\n",
    "test_df[\"ideal\"] = test_df.answer\n",
    "samples_path = os.path.join(subject_path, \"samples.jsonl\")     \n",
    "test_df[[\"input\", \"ideal\"]].to_json(samples_path, lines=True, orient=\"records\")"
   ]
  },
  {
   "cell_type": "code",
   "execution_count": 38,
   "metadata": {},
   "outputs": [
    {
     "data": {
      "text/plain": [
       "'/Users/vishhvak/Repos/tbsp/evals/openai-evals/evals/registry'"
      ]
     },
     "execution_count": 38,
     "metadata": {},
     "output_type": "execute_result"
    }
   ],
   "source": [
    "registry_path"
   ]
  },
  {
   "cell_type": "code",
   "execution_count": 42,
   "metadata": {},
   "outputs": [],
   "source": [
    "eval_id = f\"sr28\"\n",
    "\n",
    "registry_yaml[eval_id] = {\n",
    "    \"id\": f\"{eval_id}.test.v1\",\n",
    "    \"metrics\": [\"accuracy\"]\n",
    "}\n",
    "registry_yaml[f\"{eval_id}.test.v1\"] = {\n",
    "    \"class\": \"evals.elsuite.basic.json_match:JsonMatch\",\n",
    "    \"args\": {\n",
    "        \"samples_jsonl\": samples_path,\n",
    "    }\n",
    "}\n",
    "\n",
    "with open(os.path.join(registry_path, \"evals\", \"sr28.yaml\"), \"w\") as f:\n",
    "    yaml.dump(registry_yaml, f)"
   ]
  },
  {
   "cell_type": "code",
   "execution_count": null,
   "metadata": {},
   "outputs": [],
   "source": [
    "!oaieval gpt-4-1106-preview sr28"
   ]
  },
  {
   "cell_type": "code",
   "execution_count": 45,
   "metadata": {},
   "outputs": [
    {
     "name": "stderr",
     "output_type": "stream",
     "text": [
      "/var/folders/t8/pj358_hn58n946vqrtpwy85r0000gn/T/ipykernel_72430/3578362934.py:7: FutureWarning: Passing literal json to 'read_json' is deprecated and will be removed in a future version. To read from a literal string, wrap it in a 'StringIO' object.\n",
      "  events_df = pd.read_json(\"\".join(lines), lines=True)\n"
     ]
    },
    {
     "data": {
      "text/plain": [
       "<Axes: title={'center': 'Correctness of generated answers'}, xlabel='Correctness', ylabel='Count'>"
      ]
     },
     "execution_count": 45,
     "metadata": {},
     "output_type": "execute_result"
    },
    {
     "data": {
      "image/png": "[encoded data removed]",
      "text/plain": [
       "<Figure size 640x480 with 1 Axes>"
      ]
     },
     "metadata": {},
     "output_type": "display_data"
    }
   ],
   "source": [
    "# How to process the log events generated by oaieval\n",
    "import pandas as pd\n",
    "events = \"/tmp/evallogs/231227074317ODJYAUKC_gpt-4-1106-preview_sr28.jsonl\"\n",
    "\n",
    "with open(events, \"r\") as f:\n",
    "    lines = f.readlines()[1:]\n",
    "    events_df = pd.read_json(\"\".join(lines), lines=True)\n",
    "\n",
    "matches_df = events_df[events_df.type == \"match\"].reset_index(drop=True)\n",
    "matches_df = matches_df.join(pd.json_normalize(matches_df.data))\n",
    "matches_df.correct.value_counts().plot.bar(title=\"Correctness of generated answers\", xlabel=\"Correctness\", ylabel=\"Count\")"
   ]
  },
  {
   "cell_type": "code",
   "execution_count": 50,
   "metadata": {},
   "outputs": [],
   "source": [
    "df_res = matches_df[['data', 'correct']]"
   ]
  },
  {
   "cell_type": "code",
   "execution_count": 54,
   "metadata": {},
   "outputs": [
    {
     "data": {
      "text/plain": [
       "{'correct': False,\n",
       " 'expected': '{\"proteins\": 33.26, \"fats\": 6.99, \"carbohydrates\": 0.0, \"calories\": 205.0}',\n",
       " 'picked': []}"
      ]
     },
     "execution_count": 54,
     "metadata": {},
     "output_type": "execute_result"
    }
   ],
   "source": [
    "df_res.iloc[0].data"
   ]
  },
  {
   "cell_type": "code",
   "execution_count": 3,
   "metadata": {},
   "outputs": [
    {
     "data": {
      "text/plain": [
       "Nutrition(carbohydrates=23.1, proteins=1.1, fats=0.3, calories=89.0)"
      ]
     },
     "execution_count": 3,
     "metadata": {},
     "output_type": "execute_result"
    }
   ],
   "source": [
    "# Get Output Parser Instructions to Format Output as JSON from Langchain \n",
    "\n",
    "from langchain.llms import OpenAI\n",
    "from langchain.output_parsers import PydanticOutputParser\n",
    "from langchain.prompts import PromptTemplate\n",
    "from langchain_core.pydantic_v1 import BaseModel, Field, validator\n",
    "\n",
    "model = OpenAI(model_name=\"gpt-3.5-turbo-instruct\", temperature=0.0, openai_api_key=\"insert your key here\")\n",
    "\n",
    "# Define your desired data structure.\n",
    "class Nutrition(BaseModel):\n",
    "    carbohydrates: float = Field(description=\"carbohydrates in grams\")\n",
    "    proteins: float = Field(description=\"proteins in grams\")\n",
    "    fats: float = Field(description=\"fats in grams\")\n",
    "    calories: float = Field(description=\"calories in kcal\")\n",
    "    \n",
    "\n",
    "# Set up a parser + inject instructions into the prompt template.\n",
    "parser = PydanticOutputParser(pydantic_object=Nutrition)\n",
    "\n",
    "prompt = PromptTemplate(\n",
    "    template=\"What is the nutrition information of 100g of {item_description}? \\n{format_instructions}\",\n",
    "    input_variables=[\"item_description\"],\n",
    "    partial_variables={\"format_instructions\": parser.get_format_instructions()},\n",
    ")\n",
    "\n",
    "# And a query intended to prompt a language model to populate the data structure.\n",
    "prompt_and_model = prompt | model\n",
    "output = prompt_and_model.invoke({\"item_description\": \"banana\"})\n",
    "parser.invoke(output)"
   ]
  },
  {
   "cell_type": "code",
   "execution_count": 10,
   "metadata": {},
   "outputs": [
    {
     "name": "stdout",
     "output_type": "stream",
     "text": [
      "What is the nutrition information of 100g of banana? \n",
      "The output should be formatted as a JSON instance that conforms to the JSON schema below.\n",
      "\n",
      "As an example, for the schema {\"properties\": {\"foo\": {\"title\": \"Foo\", \"description\": \"a list of strings\", \"type\": \"array\", \"items\": {\"type\": \"string\"}}}, \"required\": [\"foo\"]}\n",
      "the object {\"foo\": [\"bar\", \"baz\"]} is a well-formatted instance of the schema. The object {\"properties\": {\"foo\": [\"bar\", \"baz\"]}} is not well-formatted.\n",
      "\n",
      "Here is the output schema:\n",
      "```\n",
      "{\"properties\": {\"carbohydrates\": {\"title\": \"Carbohydrates\", \"description\": \"carbohydrates in grams\", \"type\": \"number\"}, \"proteins\": {\"title\": \"Proteins\", \"description\": \"proteins in grams\", \"type\": \"number\"}, \"fats\": {\"title\": \"Fats\", \"description\": \"fats in grams\", \"type\": \"number\"}, \"calories\": {\"title\": \"Calories\", \"description\": \"calories in kcal\", \"type\": \"number\"}}, \"required\": [\"carbohydrates\", \"proteins\", \"fats\", \"calories\"]}\n",
      "```\n"
     ]
    }
   ],
   "source": [
    "print(prompt.invoke({\"item_description\": \"banana\"}).text)"
   ]
  },
  {
   "cell_type": "code",
   "execution_count": null,
   "metadata": {},
   "outputs": [],
   "source": []
  }
 ],
 "metadata": {
  "kernelspec": {
   "display_name": "tbsp",
   "language": "python",
   "name": "python3"
  },
  "language_info": {
   "codemirror_mode": {
    "name": "ipython",
    "version": 3
   },
   "file_extension": ".py",
   "mimetype": "text/x-python",
   "name": "python",
   "nbconvert_exporter": "python",
   "pygments_lexer": "ipython3",
   "version": "3.10.13"
  }
 },
 "nbformat": 4,
 "nbformat_minor": 2
}
